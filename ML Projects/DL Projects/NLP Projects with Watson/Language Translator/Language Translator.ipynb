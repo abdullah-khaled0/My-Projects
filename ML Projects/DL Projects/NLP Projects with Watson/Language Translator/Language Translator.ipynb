{
 "cells": [
  {
   "cell_type": "code",
   "execution_count": 1,
   "id": "575a1771",
   "metadata": {},
   "outputs": [],
   "source": [
    "from ibm_watson import LanguageTranslatorV3\n",
    "from ibm_cloud_sdk_core.authenticators import IAMAuthenticator"
   ]
  },
  {
   "cell_type": "markdown",
   "id": "849257ad",
   "metadata": {},
   "source": [
    "## Authenticate"
   ]
  },
  {
   "cell_type": "code",
   "execution_count": 2,
   "id": "3de3cdba",
   "metadata": {},
   "outputs": [],
   "source": [
    "apikey = ''\n",
    "url = ''"
   ]
  },
  {
   "cell_type": "code",
   "execution_count": 3,
   "id": "ed5511b3",
   "metadata": {},
   "outputs": [],
   "source": [
    "# Setup service\n",
    "authenticator = IAMAuthenticator(apikey)\n",
    "lt = LanguageTranslatorV3(version='2022-11-18', authenticator=authenticator)\n",
    "lt.set_service_url(url)"
   ]
  },
  {
   "cell_type": "markdown",
   "id": "0379e908",
   "metadata": {},
   "source": [
    "## Translate"
   ]
  },
  {
   "cell_type": "code",
   "execution_count": 8,
   "id": "cf271e07",
   "metadata": {},
   "outputs": [
    {
     "data": {
      "text/plain": [
       "{'translations': [{'translation': 'اسمي عبد الله ، وأنا عالم بيانات'}],\n",
       " 'word_count': 10,\n",
       " 'character_count': 44}"
      ]
     },
     "execution_count": 8,
     "metadata": {},
     "output_type": "execute_result"
    }
   ],
   "source": [
    "translation = lt.translate(text='My name is Abdullah, and I am Data Scientist', model_id='en-ar').get_result()\n",
    "translation"
   ]
  },
  {
   "cell_type": "code",
   "execution_count": 9,
   "id": "6cdf7861",
   "metadata": {},
   "outputs": [
    {
     "data": {
      "text/plain": [
       "'اسمي عبد الله ، وأنا عالم بيانات'"
      ]
     },
     "execution_count": 9,
     "metadata": {},
     "output_type": "execute_result"
    }
   ],
   "source": [
    "translation['translations'][0]['translation']"
   ]
  },
  {
   "cell_type": "markdown",
   "id": "b7cf7ea5",
   "metadata": {},
   "source": [
    "## Identify Languages"
   ]
  },
  {
   "cell_type": "code",
   "execution_count": 10,
   "id": "80b97139",
   "metadata": {},
   "outputs": [
    {
     "data": {
      "text/plain": [
       "{'languages': [{'language': 'ar', 'confidence': 0.5463320722117192},\n",
       "  {'language': 'ur', 'confidence': 0.13882551662451845},\n",
       "  {'language': 'fa', 'confidence': 0.13193875824053458},\n",
       "  {'language': 'pa-PK', 'confidence': 0.1053943505193687},\n",
       "  {'language': 'ps', 'confidence': 0.047491669009875385},\n",
       "  {'language': 'zh', 'confidence': 0.000943869381839799},\n",
       "  {'language': 'zh-TW', 'confidence': 0.0005893348660348327},\n",
       "  {'language': 'en', 'confidence': 0.0005831084013690171},\n",
       "  {'language': 'hi', 'confidence': 0.0005562691579461001},\n",
       "  {'language': 'es', 'confidence': 0.0005456571666295851},\n",
       "  {'language': 'mr', 'confidence': 0.0005253288355765184},\n",
       "  {'language': 'pt', 'confidence': 0.0005237402329279154},\n",
       "  {'language': 'vi', 'confidence': 0.0005201531820240405},\n",
       "  {'language': 'tl', 'confidence': 0.000516554485413333},\n",
       "  {'language': 'th', 'confidence': 0.000516554485413333},\n",
       "  {'language': 'ms', 'confidence': 0.0005119408219667314},\n",
       "  {'language': 'gu', 'confidence': 0.0005026044816976696},\n",
       "  {'language': 'ne', 'confidence': 0.0004943153490550291},\n",
       "  {'language': 'si', 'confidence': 0.0004886544779820063},\n",
       "  {'language': 'km', 'confidence': 0.0004881288256680827},\n",
       "  {'language': 'hu', 'confidence': 0.0004865923035196908},\n",
       "  {'language': 'sr', 'confidence': 0.00048347882442952825},\n",
       "  {'language': 'ca', 'confidence': 0.00048347882442952825},\n",
       "  {'language': 'hr', 'confidence': 0.0004824679545950599},\n",
       "  {'language': 'lo', 'confidence': 0.0004814166499672128},\n",
       "  {'language': 'sl', 'confidence': 0.0004798801278188209},\n",
       "  {'language': 'mt', 'confidence': 0.00047935447550489726},\n",
       "  {'language': 'ga', 'confidence': 0.00047935447550489726},\n",
       "  {'language': 'cy', 'confidence': 0.00047935447550489726},\n",
       "  {'language': 'de', 'confidence': 0.00046309844041607075},\n",
       "  {'language': 'bg', 'confidence': 0.00044919842030143454},\n",
       "  {'language': 'ru', 'confidence': 0.00044692811991401587},\n",
       "  {'language': 'bn', 'confidence': 0.00043890207809567995},\n",
       "  {'language': 'pl', 'confidence': 0.00042222141993116663},\n",
       "  {'language': 'te', 'confidence': 0.0004208670421057183},\n",
       "  {'language': 'ht', 'confidence': 0.0004200916876077365},\n",
       "  {'language': 'nl', 'confidence': 0.00041080703349084867},\n",
       "  {'language': 'eu', 'confidence': 0.0004049236657490033},\n",
       "  {'language': 'et', 'confidence': 0.0004034438986427748},\n",
       "  {'language': 'uk', 'confidence': 0.00040325503335815325},\n",
       "  {'language': 'pa', 'confidence': 0.0004027617283473668},\n",
       "  {'language': 'ko', 'confidence': 0.0003999425655812156},\n",
       "  {'language': 'mn', 'confidence': 0.0003990074116557861},\n",
       "  {'language': 'cv', 'confidence': 0.00039165648150585097},\n",
       "  {'language': 'lt', 'confidence': 0.00039081268311438763},\n",
       "  {'language': 'cs', 'confidence': 0.00038736059528717324},\n",
       "  {'language': 'ka', 'confidence': 0.000385623020407483},\n",
       "  {'language': 'fi', 'confidence': 0.00038372696538753215},\n",
       "  {'language': 'is', 'confidence': 0.0003834577892356437},\n",
       "  {'language': 'fr', 'confidence': 0.00038340395555844844},\n",
       "  {'language': 'da', 'confidence': 0.00038003451026043835},\n",
       "  {'language': 'sv', 'confidence': 0.0003799049771300027},\n",
       "  {'language': 'be', 'confidence': 0.0003789664513994289},\n",
       "  {'language': 'ml', 'confidence': 0.0003636041977722125},\n",
       "  {'language': 'ky', 'confidence': 0.0003620325333531315},\n",
       "  {'language': 'ta', 'confidence': 0.0003618891999489695},\n",
       "  {'language': 'sk', 'confidence': 0.00035848606391030704},\n",
       "  {'language': 'az', 'confidence': 0.0003535636381958526},\n",
       "  {'language': 'hy', 'confidence': 0.0003523886464895798},\n",
       "  {'language': 'ro', 'confidence': 0.00034682569137022364},\n",
       "  {'language': 'kk', 'confidence': 0.0003467824665945225},\n",
       "  {'language': 'ku', 'confidence': 0.00034377759236834543},\n",
       "  {'language': 'my', 'confidence': 0.0003413684300831161},\n",
       "  {'language': 'tr', 'confidence': 0.0003386137450735589},\n",
       "  {'language': 'el', 'confidence': 0.0003335970500490375},\n",
       "  {'language': 'ja', 'confidence': 0.00033238054897192446},\n",
       "  {'language': 'ba', 'confidence': 0.0003319992191979168},\n",
       "  {'language': 'it', 'confidence': 0.00033040809411113476},\n",
       "  {'language': 'eo', 'confidence': 0.0003257662681863011},\n",
       "  {'language': 'sq', 'confidence': 0.000321938910578582},\n",
       "  {'language': 'so', 'confidence': 0.00032022489116276335},\n",
       "  {'language': 'nn', 'confidence': 0.00031345208681449806},\n",
       "  {'language': 'lv', 'confidence': 0.0003060732383452485},\n",
       "  {'language': 'nb', 'confidence': 0.0003047149211376997},\n",
       "  {'language': 'af', 'confidence': 0.000304623955195149},\n",
       "  {'language': 'he', 'confidence': 0.00025113376777174517}]}"
      ]
     },
     "execution_count": 10,
     "metadata": {},
     "output_type": "execute_result"
    }
   ],
   "source": [
    "language = lt.identify('مرحبا').get_result()\n",
    "language"
   ]
  }
 ],
 "metadata": {
  "kernelspec": {
   "display_name": "Python 3 (ipykernel)",
   "language": "python",
   "name": "python3"
  },
  "language_info": {
   "codemirror_mode": {
    "name": "ipython",
    "version": 3
   },
   "file_extension": ".py",
   "mimetype": "text/x-python",
   "name": "python",
   "nbconvert_exporter": "python",
   "pygments_lexer": "ipython3",
   "version": "3.10.9"
  }
 },
 "nbformat": 4,
 "nbformat_minor": 5
}
