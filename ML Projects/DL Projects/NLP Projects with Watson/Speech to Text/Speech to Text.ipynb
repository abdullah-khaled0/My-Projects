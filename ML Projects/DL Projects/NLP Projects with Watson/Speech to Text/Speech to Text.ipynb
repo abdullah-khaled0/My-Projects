{
 "cells": [
  {
   "cell_type": "code",
   "execution_count": 4,
   "id": "3ff758ba",
   "metadata": {},
   "outputs": [],
   "source": [
    "from ibm_watson import SpeechToTextV1\n",
    "from ibm_watson.websocket import RecognizeCallback, AudioSource \n",
    "from ibm_cloud_sdk_core.authenticators import IAMAuthenticator"
   ]
  },
  {
   "cell_type": "markdown",
   "id": "85d3aca1",
   "metadata": {},
   "source": [
    "## Setup STT Service"
   ]
  },
  {
   "cell_type": "code",
   "execution_count": 5,
   "id": "0e6bbef0",
   "metadata": {},
   "outputs": [],
   "source": [
    "apikey = 'OsBJfiHYq2yTyqqgFEZryyQKQ_nw0CA-uJTlwxmx5oxG'\n",
    "url = 'https://api.au-syd.speech-to-text.watson.cloud.ibm.com/instances/9f1b8894-953e-4377-8ea4-9b15d7e66a30'"
   ]
  },
  {
   "cell_type": "code",
   "execution_count": 6,
   "id": "2efe4bd9",
   "metadata": {},
   "outputs": [],
   "source": [
    "authenticator = IAMAuthenticator(apikey)\n",
    "stt = SpeechToTextV1(authenticator=authenticator)\n",
    "stt.set_service_url(url)"
   ]
  },
  {
   "cell_type": "markdown",
   "id": "8371282b",
   "metadata": {},
   "source": [
    "## Open Audio Source and Convert"
   ]
  },
  {
   "cell_type": "code",
   "execution_count": 12,
   "id": "bf894d88",
   "metadata": {},
   "outputs": [
    {
     "data": {
      "text/plain": [
       "{'result_index': 0,\n",
       " 'results': [{'final': True,\n",
       "   'alternatives': [{'transcript': 'hello this is chat G. P. T. ',\n",
       "     'confidence': 0.74}]}]}"
      ]
     },
     "execution_count": 12,
     "metadata": {},
     "output_type": "execute_result"
    }
   ],
   "source": [
    "with open('hello-this-is-chat-gpt.mp3', 'rb') as f:\n",
    "    res = stt.recognize(audio=f, content_type='audio/mp3', model='en-US_NarrowbandModel').get_result()\n",
    "res"
   ]
  },
  {
   "cell_type": "code",
   "execution_count": 13,
   "id": "8934a569",
   "metadata": {},
   "outputs": [
    {
     "data": {
      "text/plain": [
       "'hello this is chat G. P. T. '"
      ]
     },
     "execution_count": 13,
     "metadata": {},
     "output_type": "execute_result"
    }
   ],
   "source": [
    "text = res['results'][0]['alternatives'][0]['transcript']\n",
    "text"
   ]
  },
  {
   "cell_type": "code",
   "execution_count": 14,
   "id": "58e9343b",
   "metadata": {},
   "outputs": [
    {
     "data": {
      "text/plain": [
       "0.74"
      ]
     },
     "execution_count": 14,
     "metadata": {},
     "output_type": "execute_result"
    }
   ],
   "source": [
    "confidence = res['results'][0]['alternatives'][0]['confidence']\n",
    "confidence"
   ]
  }
 ],
 "metadata": {
  "kernelspec": {
   "display_name": "Python 3 (ipykernel)",
   "language": "python",
   "name": "python3"
  },
  "language_info": {
   "codemirror_mode": {
    "name": "ipython",
    "version": 3
   },
   "file_extension": ".py",
   "mimetype": "text/x-python",
   "name": "python",
   "nbconvert_exporter": "python",
   "pygments_lexer": "ipython3",
   "version": "3.10.9"
  }
 },
 "nbformat": 4,
 "nbformat_minor": 5
}
